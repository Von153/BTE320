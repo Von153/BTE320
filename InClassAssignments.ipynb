{
  "nbformat": 4,
  "nbformat_minor": 0,
  "metadata": {
    "colab": {
      "provenance": [],
      "authorship_tag": "ABX9TyMJ+vxsinqXpv8gJJsIYsv/",
      "include_colab_link": true
    },
    "kernelspec": {
      "name": "python3",
      "display_name": "Python 3"
    },
    "language_info": {
      "name": "python"
    }
  },
  "cells": [
    {
      "cell_type": "markdown",
      "metadata": {
        "id": "view-in-github",
        "colab_type": "text"
      },
      "source": [
        "<a href=\"https://colab.research.google.com/github/Von153/BTE320/blob/main/InClassAssignments.ipynb\" target=\"_parent\"><img src=\"https://colab.research.google.com/assets/colab-badge.svg\" alt=\"Open In Colab\"/></a>"
      ]
    },
    {
      "cell_type": "code",
      "execution_count": null,
      "metadata": {
        "id": "4kdzAVB8DDKd",
        "colab": {
          "base_uri": "https://localhost:8080/"
        },
        "outputId": "64d4e9d3-37b9-4d19-cdb9-f2155f6a0994"
      },
      "outputs": [
        {
          "output_type": "stream",
          "name": "stdout",
          "text": [
            "244.92000000000002\n",
            "Area is 244.92000000000002 square feet.\n",
            "Area is 244.9 square feet\n",
            " \n",
            "Area is 244.92000000000002 square feet\n",
            "Promgram ends...\n"
          ]
        }
      ],
      "source": [
        "pi = 3.14\n",
        "r = 3\n",
        "h = 10\n",
        "\n",
        "Area = (2*pi*r**2) + (2*pi*r*h)\n",
        "print(Area)\n",
        "\n",
        "print(\"Area is\", Area, \"square feet.\", end=\"\\n\")\n",
        "print(\"Area is %.1f square feet\" % Area)\n",
        "print(\" \")\n",
        "print(\"Area is {} square feet\" .format(Area))\n",
        "print('Promgram ends...')"
      ]
    },
    {
      "cell_type": "code",
      "source": [
        "#Shape Area Calc\n",
        "pi = 3.14\n",
        "r = float(input(\"Provide a value for the radius (in ft): \"))\n",
        "c = float(input(\"Provide value for side of sq:\"))\n",
        "shape = 'circle'\n",
        "\n",
        "if shape == 'circle':\n",
        "  area = pi * r ** 2\n",
        "  print(f'Area is {area} sq ft.')\n",
        "elif shape == 'sq':\n",
        "  area = c ** 2\n",
        "  print(f'Area is {area} sq ft.')\n",
        "elif shape == 'triangle':\n",
        "  area = .5 * c * h\n",
        "  print(f'Area is {area} sq ft.')\n",
        "else:\n",
        "  area = 2 * pi * r * h + 2 * pi * r ** 2\n",
        "  print(f'Area is {area} sq ft.')\n",
        "\n",
        "print('Program ends...')"
      ],
      "metadata": {
        "id": "Kk5E3FVudzgS"
      },
      "execution_count": null,
      "outputs": []
    },
    {
      "cell_type": "code",
      "source": [
        "amount = float(input('Give initial amount ($): '))\n",
        "n_years = int(input('Give years of investment: '))\n",
        "customer_type = input(\"Type of customer (n->new, e->existing): \")\n",
        "if amount > 10,000 and customer_type == \"e\":\n",
        "  return_amount = ((1 + 0.035) ** n_years * amount )\n",
        "elif amount > 1000 and customer_type == 'e':\n",
        "    return_amount = ((1 + 0.0325) ** n_years * amount )\n",
        "elif amount <= 1000 and customer_type == 'e':\n",
        "    return_amount = ((1 + 0.03) ** n_years * amount )\n",
        "elif customer_type == 'n':\n",
        "    return_amount = ((1 + 0.03) ** n_years * amount )\n",
        "\n",
        "print(return_amount)\n",
        "\n"
      ],
      "metadata": {
        "id": "HsCwonpBiSTj"
      },
      "execution_count": null,
      "outputs": []
    },
    {
      "cell_type": "code",
      "source": [
        "if customer_ype =='e':\n",
        "  if amount > 10,000 and customer_type == \"e\":\n",
        "    return_amount = ((1 + 0.035) ** n_years * amount )\n",
        "  elif amount > 1000 and customer_type == 'e':\n",
        "      return_amount = ((1 + 0.0325) ** n_years * amount )\n",
        "  elif amount <= 1000 and customer_type == 'e':\n",
        "      return_amount = ((1 + 0.03) ** n_years * amount )\n",
        "  elif customer_type == 'n':\n",
        "      return_amount = ((1 + 0.03) ** n_years * amount )"
      ],
      "metadata": {
        "id": "pV5XAXzeJpIl"
      },
      "execution_count": null,
      "outputs": []
    },
    {
      "cell_type": "code",
      "source": [
        "#Rock Paper Scissors Game\n",
        "\n",
        "\n",
        "currentlyPlaying = input(\"Would you like to play a game (yes/no)\")\n",
        "\n",
        "while currentlyPlaying == 'yes':\n",
        "  P1 = input(\"Choose Rock, Paper, or Scissors: \");\n",
        "  P2 = input(\"Choose Rock, Paper, or Scissors: \");\n",
        "\n",
        "  if (P1 == P2):\n",
        "    print(\"Tie\")\n",
        "\n",
        "  elif (P1 == \"Paper\" and P2 == \"Rock\"):\n",
        "    print (\"Player 1 wins\")\n",
        "\n",
        "  elif (P1 == \"Scissors\" and P2 == \"Paper\"):\n",
        "    print (\"Player 1 wins\")\n",
        "\n",
        "  elif (P1 == \"Rock\" and P2 == \"Scissors\"):\n",
        "    print (\"Player 1 wins\")\n",
        "\n",
        "  else:\n",
        "    print (\"Player 2 wins\")\n",
        "\n",
        "  currentlyPlaying = input(\"Would you like to play a game (yes/no)\")\n",
        "\n",
        "\n",
        "\n",
        "\n",
        "\n",
        "\n"
      ],
      "metadata": {
        "colab": {
          "base_uri": "https://localhost:8080/"
        },
        "id": "Erk0U5PyLc-o",
        "outputId": "e0f6d82b-d1d7-4c34-910f-da7161e742b5"
      },
      "execution_count": null,
      "outputs": [
        {
          "name": "stdout",
          "output_type": "stream",
          "text": [
            "Would you like to play a game (yes/no)no\n"
          ]
        }
      ]
    },
    {
      "cell_type": "code",
      "source": [
        "#NumericalCalculator\n",
        "print (\"Welcome to the Calculator\")\n",
        "\n",
        "  #Request Inputs\n",
        "num1 = float(input(\"Please input 1 number here: \"))\n",
        "operatorSymbol = (input(\"Please input a mathmatical operation (+, -, *, /, **): \"))\n",
        "num2 = float(input(\"Please input 2 number here: \"))\n",
        "\n",
        "if operatorSymbol == '*':\n",
        "    num1*num2\n",
        "elif operatorSymbol == '/':\n",
        "    num1/num2\n",
        "elif operatorSymbol == '+':\n",
        "    num1+num2\n",
        "elif operatorSymbol == '-':\n",
        "    num1-num2\n",
        "else:\n",
        "  operatorSymbol == '**'\n",
        "  num1**num2\n",
        "\n",
        "print(f'Your calculation equals: {operatorSymbol}')\n"
      ],
      "metadata": {
        "id": "a_9-lRQbM9Lx"
      },
      "execution_count": null,
      "outputs": []
    },
    {
      "cell_type": "code",
      "source": [
        "#Parking Garage\n",
        "flatRate = 5\n",
        "\n",
        "hourlyRate = 2.5\n",
        "\n",
        "\n",
        "\n",
        "for h in range(1, 9):\n",
        "\n",
        "  charge = flatRate + hourlyRate * h\n",
        "\n",
        "  if charge < 10:\n",
        "\n",
        "    charge = 10\n",
        "\n",
        "  elif charge > 20:\n",
        "\n",
        "    charge = 20\n",
        "\n",
        "  print(h, charge)"
      ],
      "metadata": {
        "id": "CSMv_1rpRffq"
      },
      "execution_count": null,
      "outputs": []
    },
    {
      "cell_type": "code",
      "source": [
        "#Movie Theater\n",
        "ticketPrice = 10\n",
        "fixedCost = 200\n",
        "standardAttendees = 20\n",
        "\n",
        "for ad in range(0, 201, 25):\n",
        "  profit = ticketPrice * (standardAttendees + 2 * ad ** 0.5) - fixedCost - ad\n",
        "  print(ad,profit)"
      ],
      "metadata": {
        "id": "0AjdTcPoXbqU"
      },
      "execution_count": null,
      "outputs": []
    },
    {
      "cell_type": "code",
      "source": [
        "#Months2Numbers dictionary\n",
        "months = {}\n",
        "\n",
        "names = [\"Jan\", \"Feb\", \"Mar\", \"Apr\", \"May\", \"Jun\", \"Jul\", \"Aug\", \"Sep\", \"Oct\", \"Nov\", \"Dec\"]\n",
        "numbers = [1,2,3,4,5,6,7,8,9,10,11,12]\n",
        "\n",
        "for i in range(len(numbers)):\n",
        "  months[numbers[i]] = names[i]\n",
        "months\n",
        "\n"
      ],
      "metadata": {
        "id": "7BPd1LTlWOaN"
      },
      "execution_count": null,
      "outputs": []
    },
    {
      "cell_type": "code",
      "source": [
        "def range_check(number, low, high):\n",
        "  if low<= number <= high:\n",
        "    print(f'{number} is in the range between {low} and {high}')\n",
        "  else:\n",
        "    print(f'{number} is NOT in the range betweeen {low} and {high}')"
      ],
      "metadata": {
        "id": "g52E7APMqYIQ"
      },
      "execution_count": null,
      "outputs": []
    },
    {
      "cell_type": "code",
      "source": [
        "def calcfee(hours):\n",
        "  fee = 5 + hours * 2.5\n",
        "  return fee\n",
        "\n",
        "h = int(input(\"enter hours\"))\n",
        "fee = calcfee(h)\n",
        "print(fee)"
      ],
      "metadata": {
        "id": "yfmZE4SpqbsC"
      },
      "execution_count": null,
      "outputs": []
    },
    {
      "cell_type": "code",
      "source": [
        "#Fee calculation and display functions\n",
        "def calcfee(hours, decimals=2):\n",
        "  fee = 5 + hours * 2.5\n",
        "  fee = round(fee, decimals)\n",
        "  return fee\n",
        "\n",
        "def displayfee(fee):\n",
        "  print(f\"fee is {fee}\")\n",
        "\n",
        "h = int(input(\"Enter hours: \"))\n",
        "fee = calcfee(h)\n",
        "displayfee(fee)"
      ],
      "metadata": {
        "id": "yU3WNXeIrApT",
        "colab": {
          "base_uri": "https://localhost:8080/"
        },
        "outputId": "e4597ce8-e552-4117-816b-9ab3f7ce6ba7"
      },
      "execution_count": null,
      "outputs": [
        {
          "output_type": "stream",
          "name": "stdout",
          "text": [
            "Enter hours: 1\n",
            "fee is 7.5\n"
          ]
        }
      ]
    },
    {
      "cell_type": "code",
      "source": [
        "#Reverse Function\n",
        "def reverse_string(s):\n",
        "    if len(s) <= 1:\n",
        "        return s\n",
        "    else:\n",
        "        return reverse_string(s[1:]) + s[0]\n",
        "\n",
        "print(reverse_string(\"Hello, World!\"))"
      ],
      "metadata": {
        "id": "XBmB9yLJsXSU"
      },
      "execution_count": null,
      "outputs": []
    },
    {
      "cell_type": "code",
      "source": [
        "def wAvg(L, w):\n",
        "  try:\n",
        "    res = []\n",
        "    for i in range (len(L)):\n",
        "      res.append(L[i] * w[i])\n",
        "    return sum(res) / sum(w)\n",
        "  except ZeroDivisionError:\n",
        "    print(\"Can't division by Zero.\")\n",
        "    return []\n",
        "  except TypeError:\n",
        "    print(\"Wrong object type. \")\n",
        "    return []\n",
        "  except Exception as e:\n",
        "    print(f\"Unknown Error: {e}\")\n",
        "    return float ('nan')\n",
        "\n",
        "wAvg([1,2,3], [.1,.3,.4])\n"
      ],
      "metadata": {
        "id": "nf2u5smm9jqk"
      },
      "execution_count": null,
      "outputs": []
    },
    {
      "cell_type": "code",
      "source": [
        "#Student Class\n",
        "class Student:\n",
        "  def __init__(self, name, number):\n",
        "    self.name = name\n",
        "    self.number = number\n",
        "\n",
        "\n",
        "\n"
      ],
      "metadata": {
        "id": "neK0Tau2-saW"
      },
      "execution_count": null,
      "outputs": []
    },
    {
      "cell_type": "code",
      "source": [
        "s1 = Student(\"James Bond\", \"007\")\n",
        "s2 = Student(\"Clark Kent\", \"333\")\n",
        "\n",
        "print(s1.name, s2.name)"
      ],
      "metadata": {
        "id": "hRbz_Kib4Sfe"
      },
      "execution_count": null,
      "outputs": []
    }
  ]
}