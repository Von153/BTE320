{
  "nbformat": 4,
  "nbformat_minor": 0,
  "metadata": {
    "colab": {
      "provenance": [],
      "authorship_tag": "ABX9TyMhl3zfAnZqbMK7csuyuhgJ",
      "include_colab_link": true
    },
    "kernelspec": {
      "name": "python3",
      "display_name": "Python 3"
    },
    "language_info": {
      "name": "python"
    }
  },
  "cells": [
    {
      "cell_type": "markdown",
      "metadata": {
        "id": "view-in-github",
        "colab_type": "text"
      },
      "source": [
        "<a href=\"https://colab.research.google.com/github/Von153/BTE320/blob/main/InClassAssignments.ipynb\" target=\"_parent\"><img src=\"https://colab.research.google.com/assets/colab-badge.svg\" alt=\"Open In Colab\"/></a>"
      ]
    },
    {
      "cell_type": "code",
      "execution_count": null,
      "metadata": {
        "id": "4kdzAVB8DDKd",
        "colab": {
          "base_uri": "https://localhost:8080/"
        },
        "outputId": "64d4e9d3-37b9-4d19-cdb9-f2155f6a0994"
      },
      "outputs": [
        {
          "output_type": "stream",
          "name": "stdout",
          "text": [
            "244.92000000000002\n",
            "Area is 244.92000000000002 square feet.\n",
            "Area is 244.9 square feet\n",
            " \n",
            "Area is 244.92000000000002 square feet\n",
            "Promgram ends...\n"
          ]
        }
      ],
      "source": [
        "pi = 3.14\n",
        "r = 3\n",
        "h = 10\n",
        "\n",
        "Area = (2*pi*r**2) + (2*pi*r*h)\n",
        "print(Area)\n",
        "\n",
        "print(\"Area is\", Area, \"square feet.\", end=\"\\n\")\n",
        "print(\"Area is %.1f square feet\" % Area)\n",
        "print(\" \")\n",
        "print(\"Area is {} square feet\" .format(Area))\n",
        "print('Promgram ends...')"
      ]
    },
    {
      "cell_type": "code",
      "source": [
        "#Shape Area Calc\n",
        "pi = 3.14\n",
        "r = float(input(\"Provide a value for the radius (in ft): \"))\n",
        "c = float(input(\"Provide value for side of sq:\"))\n",
        "shape = 'circle'\n",
        "\n",
        "if shape == 'circle':\n",
        "  area = pi * r ** 2\n",
        "  print(f'Area is {area} sq ft.')\n",
        "elif shape == 'sq':\n",
        "  area = c ** 2\n",
        "  print(f'Area is {area} sq ft.')\n",
        "elif shape == 'triangle'\n",
        "  area = .5 * c * h\n",
        "  print(f'Area is {area} sq ft.')\n",
        "else:\n",
        "  area = 2 * pi * r * h + 2 * pi * r ** 2\n",
        "  print(f'Area is {area} sq ft.')\n",
        "\n",
        "print('Program ends...')"
      ],
      "metadata": {
        "colab": {
          "base_uri": "https://localhost:8080/",
          "height": 108
        },
        "id": "Kk5E3FVudzgS",
        "outputId": "c47c94df-51f6-4fd6-b6ff-95c3fe1a3a0c"
      },
      "execution_count": null,
      "outputs": [
        {
          "output_type": "error",
          "ename": "SyntaxError",
          "evalue": "expected ':' (<ipython-input-1-6a4eaffdf598>, line 12)",
          "traceback": [
            "\u001b[0;36m  File \u001b[0;32m\"<ipython-input-1-6a4eaffdf598>\"\u001b[0;36m, line \u001b[0;32m12\u001b[0m\n\u001b[0;31m    elif shape == 'triangle'\u001b[0m\n\u001b[0m                            ^\u001b[0m\n\u001b[0;31mSyntaxError\u001b[0m\u001b[0;31m:\u001b[0m expected ':'\n"
          ]
        }
      ]
    },
    {
      "cell_type": "code",
      "source": [
        "amount = float(input('Give initial amount ($): '))\n",
        "n_years = int(input('Give years of investment: '))\n",
        "customer_type = input(\"Type of customer (n->new, e->existing): \")\n",
        "if amount > 10,000 and customer_type == \"e\":\n",
        "  return_amount = ((1 + 0.035) ** n_years * amount )\n",
        "elif amount > 1000 and customer_type == 'e':\n",
        "    return_amount = ((1 + 0.0325) ** n_years * amount )\n",
        "elif amount <= 1000 and customer_type == 'e':\n",
        "    return_amount = ((1 + 0.03) ** n_years * amount )\n",
        "elif customer_type == 'n':\n",
        "    return_amount = ((1 + 0.03) ** n_years * amount )\n",
        "\n",
        "print(return_amount)\n",
        "\n"
      ],
      "metadata": {
        "id": "HsCwonpBiSTj"
      },
      "execution_count": null,
      "outputs": []
    },
    {
      "cell_type": "code",
      "source": [
        "if customer_ype =='e':\n",
        "  if amount > 10,000 and customer_type == \"e\":\n",
        "    return_amount = ((1 + 0.035) ** n_years * amount )\n",
        "  elif amount > 1000 and customer_type == 'e':\n",
        "      return_amount = ((1 + 0.0325) ** n_years * amount )\n",
        "  elif amount <= 1000 and customer_type == 'e':\n",
        "      return_amount = ((1 + 0.03) ** n_years * amount )\n",
        "  elif customer_type == 'n':\n",
        "      return_amount = ((1 + 0.03) ** n_years * amount )"
      ],
      "metadata": {
        "id": "pV5XAXzeJpIl"
      },
      "execution_count": null,
      "outputs": []
    },
    {
      "cell_type": "code",
      "source": [
        "#Rock Paper Scissors Game\n",
        "\n",
        "\n",
        "currentlyPlaying = input(\"Would you like to play a game (yes/no)\")\n",
        "\n",
        "while currentlyPlaying == 'yes':\n",
        "  P1 = input(\"Choose Rock, Paper, or Scissors: \");\n",
        "  P2 = input(\"Choose Rock, Paper, or Scissors: \");\n",
        "\n",
        "  if (P1 == P2):\n",
        "    print(\"Tie\")\n",
        "\n",
        "  elif (P1 == \"Paper\" and P2 == \"Rock\"):\n",
        "    print (\"Player 1 wins\")\n",
        "\n",
        "  elif (P1 == \"Scissors\" and P2 == \"Paper\"):\n",
        "    print (\"Player 1 wins\")\n",
        "\n",
        "  elif (P1 == \"Rock\" and P2 == \"Scissors\"):\n",
        "    print (\"Player 1 wins\")\n",
        "\n",
        "  else:\n",
        "    print (\"Player 2 wins\")\n",
        "\n",
        "  currentlyPlaying = input(\"Would you like to play a game (yes/no)\")\n",
        "\n",
        "\n",
        "\n",
        "\n",
        "\n",
        "\n"
      ],
      "metadata": {
        "colab": {
          "base_uri": "https://localhost:8080/"
        },
        "id": "Erk0U5PyLc-o",
        "outputId": "e0f6d82b-d1d7-4c34-910f-da7161e742b5"
      },
      "execution_count": null,
      "outputs": [
        {
          "name": "stdout",
          "output_type": "stream",
          "text": [
            "Would you like to play a game (yes/no)no\n"
          ]
        }
      ]
    },
    {
      "cell_type": "code",
      "source": [
        "#NumericalCalculator\n",
        "print (\"Welcome to the Calculator\")\n",
        "\n",
        "  #Request Inputs\n",
        "num1 = float(input(\"Please input 1 number here: \"))\n",
        "operatorSymbol = (input(\"Please input a mathmatical operation (+, -, *, /, **): \"))\n",
        "num2 = float(input(\"Please input 2 number here: \"))\n",
        "\n",
        "if operatorSymbol == '*':\n",
        "    num1*num2\n",
        "elif operatorSymbol == '/':\n",
        "    num1/num2\n",
        "elif operatorSymbol == '+':\n",
        "    num1+num2\n",
        "elif operatorSymbol == '-':\n",
        "    num1-num2\n",
        "else:\n",
        "  operatorSymbol == '**'\n",
        "  num1**num2\n",
        "\n",
        "print(f'Your calculation equals: {operatorSymbol}')\n"
      ],
      "metadata": {
        "id": "a_9-lRQbM9Lx",
        "colab": {
          "base_uri": "https://localhost:8080/",
          "height": 382
        },
        "outputId": "a98e4c60-9b9b-4ab6-9fe1-d203dec5deab"
      },
      "execution_count": null,
      "outputs": [
        {
          "output_type": "stream",
          "name": "stdout",
          "text": [
            "Welcome to the Calculator\n"
          ]
        },
        {
          "output_type": "error",
          "ename": "KeyboardInterrupt",
          "evalue": "Interrupted by user",
          "traceback": [
            "\u001b[0;31m---------------------------------------------------------------------------\u001b[0m",
            "\u001b[0;31mKeyboardInterrupt\u001b[0m                         Traceback (most recent call last)",
            "\u001b[0;32m<ipython-input-9-ff628d8cf828>\u001b[0m in \u001b[0;36m<cell line: 5>\u001b[0;34m()\u001b[0m\n\u001b[1;32m      3\u001b[0m \u001b[0;34m\u001b[0m\u001b[0m\n\u001b[1;32m      4\u001b[0m   \u001b[0;31m#Request Inputs\u001b[0m\u001b[0;34m\u001b[0m\u001b[0;34m\u001b[0m\u001b[0m\n\u001b[0;32m----> 5\u001b[0;31m \u001b[0mnum1\u001b[0m \u001b[0;34m=\u001b[0m \u001b[0mfloat\u001b[0m\u001b[0;34m(\u001b[0m\u001b[0minput\u001b[0m\u001b[0;34m(\u001b[0m\u001b[0;34m\"Please input 1 number here: \"\u001b[0m\u001b[0;34m)\u001b[0m\u001b[0;34m)\u001b[0m\u001b[0;34m\u001b[0m\u001b[0;34m\u001b[0m\u001b[0m\n\u001b[0m\u001b[1;32m      6\u001b[0m \u001b[0moperatorSymbol\u001b[0m \u001b[0;34m=\u001b[0m \u001b[0;34m(\u001b[0m\u001b[0minput\u001b[0m\u001b[0;34m(\u001b[0m\u001b[0;34m\"Please input a mathmatical operation (+, -, *, /, **): \"\u001b[0m\u001b[0;34m)\u001b[0m\u001b[0;34m)\u001b[0m\u001b[0;34m\u001b[0m\u001b[0;34m\u001b[0m\u001b[0m\n\u001b[1;32m      7\u001b[0m \u001b[0mnum2\u001b[0m \u001b[0;34m=\u001b[0m \u001b[0mfloat\u001b[0m\u001b[0;34m(\u001b[0m\u001b[0minput\u001b[0m\u001b[0;34m(\u001b[0m\u001b[0;34m\"Please input 2 number here: \"\u001b[0m\u001b[0;34m)\u001b[0m\u001b[0;34m)\u001b[0m\u001b[0;34m\u001b[0m\u001b[0;34m\u001b[0m\u001b[0m\n",
            "\u001b[0;32m/usr/local/lib/python3.10/dist-packages/ipykernel/kernelbase.py\u001b[0m in \u001b[0;36mraw_input\u001b[0;34m(self, prompt)\u001b[0m\n\u001b[1;32m    849\u001b[0m                 \u001b[0;34m\"raw_input was called, but this frontend does not support input requests.\"\u001b[0m\u001b[0;34m\u001b[0m\u001b[0;34m\u001b[0m\u001b[0m\n\u001b[1;32m    850\u001b[0m             )\n\u001b[0;32m--> 851\u001b[0;31m         return self._input_request(str(prompt),\n\u001b[0m\u001b[1;32m    852\u001b[0m             \u001b[0mself\u001b[0m\u001b[0;34m.\u001b[0m\u001b[0m_parent_ident\u001b[0m\u001b[0;34m,\u001b[0m\u001b[0;34m\u001b[0m\u001b[0;34m\u001b[0m\u001b[0m\n\u001b[1;32m    853\u001b[0m             \u001b[0mself\u001b[0m\u001b[0;34m.\u001b[0m\u001b[0m_parent_header\u001b[0m\u001b[0;34m,\u001b[0m\u001b[0;34m\u001b[0m\u001b[0;34m\u001b[0m\u001b[0m\n",
            "\u001b[0;32m/usr/local/lib/python3.10/dist-packages/ipykernel/kernelbase.py\u001b[0m in \u001b[0;36m_input_request\u001b[0;34m(self, prompt, ident, parent, password)\u001b[0m\n\u001b[1;32m    893\u001b[0m             \u001b[0;32mexcept\u001b[0m \u001b[0mKeyboardInterrupt\u001b[0m\u001b[0;34m:\u001b[0m\u001b[0;34m\u001b[0m\u001b[0;34m\u001b[0m\u001b[0m\n\u001b[1;32m    894\u001b[0m                 \u001b[0;31m# re-raise KeyboardInterrupt, to truncate traceback\u001b[0m\u001b[0;34m\u001b[0m\u001b[0;34m\u001b[0m\u001b[0m\n\u001b[0;32m--> 895\u001b[0;31m                 \u001b[0;32mraise\u001b[0m \u001b[0mKeyboardInterrupt\u001b[0m\u001b[0;34m(\u001b[0m\u001b[0;34m\"Interrupted by user\"\u001b[0m\u001b[0;34m)\u001b[0m \u001b[0;32mfrom\u001b[0m \u001b[0;32mNone\u001b[0m\u001b[0;34m\u001b[0m\u001b[0;34m\u001b[0m\u001b[0m\n\u001b[0m\u001b[1;32m    896\u001b[0m             \u001b[0;32mexcept\u001b[0m \u001b[0mException\u001b[0m \u001b[0;32mas\u001b[0m \u001b[0me\u001b[0m\u001b[0;34m:\u001b[0m\u001b[0;34m\u001b[0m\u001b[0;34m\u001b[0m\u001b[0m\n\u001b[1;32m    897\u001b[0m                 \u001b[0mself\u001b[0m\u001b[0;34m.\u001b[0m\u001b[0mlog\u001b[0m\u001b[0;34m.\u001b[0m\u001b[0mwarning\u001b[0m\u001b[0;34m(\u001b[0m\u001b[0;34m\"Invalid Message:\"\u001b[0m\u001b[0;34m,\u001b[0m \u001b[0mexc_info\u001b[0m\u001b[0;34m=\u001b[0m\u001b[0;32mTrue\u001b[0m\u001b[0;34m)\u001b[0m\u001b[0;34m\u001b[0m\u001b[0;34m\u001b[0m\u001b[0m\n",
            "\u001b[0;31mKeyboardInterrupt\u001b[0m: Interrupted by user"
          ]
        }
      ]
    },
    {
      "cell_type": "code",
      "source": [
        "#Parking Garage\n",
        "flatRate = 5\n",
        "\n",
        "hourlyRate = 2.5\n",
        "\n",
        "\n",
        "\n",
        "for h in range(1, 9):\n",
        "\n",
        "  charge = flatRate + hourlyRate * h\n",
        "\n",
        "  if charge < 10:\n",
        "\n",
        "    charge = 10\n",
        "\n",
        "  elif charge > 20:\n",
        "\n",
        "    charge = 20\n",
        "\n",
        "  print(h, charge)"
      ],
      "metadata": {
        "id": "CSMv_1rpRffq",
        "outputId": "4cf23e22-0c4f-47f9-887d-1345d5ddfa53",
        "colab": {
          "base_uri": "https://localhost:8080/"
        }
      },
      "execution_count": null,
      "outputs": [
        {
          "output_type": "stream",
          "name": "stdout",
          "text": [
            "1 10\n",
            "2 10.0\n",
            "3 12.5\n",
            "4 15.0\n",
            "5 17.5\n",
            "6 20.0\n",
            "7 20\n",
            "8 20\n"
          ]
        }
      ]
    },
    {
      "cell_type": "code",
      "source": [
        "#Movie Theater\n",
        "ticketPrice = 10\n",
        "fixedCost = 200\n",
        "standardAttendees = 20\n",
        "\n",
        "for ad in range(0, 201, 25):\n",
        "  profit = ticketPrice * (standardAttendees + 2 * ad ** 0.5) - fixedCost - ad\n",
        "  print(ad,profit)"
      ],
      "metadata": {
        "id": "0AjdTcPoXbqU",
        "colab": {
          "base_uri": "https://localhost:8080/"
        },
        "outputId": "0bb3b1af-50e5-4dee-add4-4952ff58cbd5"
      },
      "execution_count": null,
      "outputs": [
        {
          "output_type": "stream",
          "name": "stdout",
          "text": [
            "0 0.0\n",
            "25 75.0\n",
            "50 91.42135623730951\n",
            "75 98.20508075688781\n",
            "100 100.0\n",
            "125 98.60679774997897\n",
            "150 94.94897427831779\n",
            "175 89.57513110645903\n",
            "200 82.84271247461902\n"
          ]
        }
      ]
    },
    {
      "cell_type": "code",
      "source": [
        "#Months2Numbers dictionary\n",
        "months = {}\n",
        "\n",
        "names = [\"Jan\", \"Feb\", \"Mar\", \"Apr\", \"May\", \"Jun\", \"Jul\", \"Aug\", \"Sep\", \"Oct\", \"Nov\", \"Dec\"]\n",
        "numbers = [1,2,3,4,5,6,7,8,9,10,11,12]\n",
        "\n",
        "for i in range(len(numbers)):\n",
        "  months[numbers[i]] = names[i]\n",
        "months\n",
        "\n"
      ],
      "metadata": {
        "colab": {
          "base_uri": "https://localhost:8080/"
        },
        "id": "7BPd1LTlWOaN",
        "outputId": "8b970d23-2025-4ea3-a73e-bcf0e6ba235b"
      },
      "execution_count": null,
      "outputs": [
        {
          "output_type": "execute_result",
          "data": {
            "text/plain": [
              "{1: 'Jan',\n",
              " 2: 'Feb',\n",
              " 3: 'Mar',\n",
              " 4: 'Apr',\n",
              " 5: 'May',\n",
              " 6: 'Jun',\n",
              " 7: 'Jul',\n",
              " 8: 'Aug',\n",
              " 9: 'Sep',\n",
              " 10: 'Oct',\n",
              " 11: 'Nov',\n",
              " 12: 'Dec'}"
            ]
          },
          "metadata": {},
          "execution_count": 4
        }
      ]
    },
    {
      "cell_type": "code",
      "source": [
        "def range_check(number, low, high):\n",
        "  if low<= number <= high:\n",
        "    print(f'{number} is in the range between {low} and {high}')\n",
        "  else:\n",
        "    print(f'{number} is NOT in the range betweeen {low} and {high}')"
      ],
      "metadata": {
        "id": "g52E7APMqYIQ"
      },
      "execution_count": null,
      "outputs": []
    },
    {
      "cell_type": "code",
      "source": [
        "def calcfee(hours):\n",
        "  fee = 5 + hours * 2.5\n",
        "  return fee\n",
        "\n",
        "h = int(input(\"enter hours\"))\n",
        "fee = calcfee(h)\n",
        "print(fee)"
      ],
      "metadata": {
        "colab": {
          "base_uri": "https://localhost:8080/"
        },
        "id": "yfmZE4SpqbsC",
        "outputId": "466d6f46-7a42-475b-e320-528ce6a89136"
      },
      "execution_count": null,
      "outputs": [
        {
          "output_type": "stream",
          "name": "stdout",
          "text": [
            "enter hours4\n",
            "15.0\n"
          ]
        }
      ]
    },
    {
      "cell_type": "code",
      "source": [
        "#Fee calculation and display functions\n",
        "def calcfee(hours, decimas=2):\n",
        "  fee = 5 + hours * 2.5\n",
        "  fee = round(fee, decimals)\n",
        "  return fee\n",
        "\n",
        "def displayfee(fee):\n",
        "  print(f\"fee is {fee}\")\n",
        "\n",
        "h = int(input(\"Enter hours: \"))\n",
        "fee = calcfee(h)\n",
        "displayfee(fee)"
      ],
      "metadata": {
        "id": "yU3WNXeIrApT"
      },
      "execution_count": null,
      "outputs": []
    },
    {
      "cell_type": "code",
      "source": [
        "#Reverse Function\n",
        "def reverse_string(s):\n",
        "    if len(s) <= 1:\n",
        "        return s\n",
        "    else:\n",
        "        return reverse_string(s[1:]) + s[0]\n",
        "\n",
        "print(reverse_string(\"Hello, World!\"))"
      ],
      "metadata": {
        "id": "XBmB9yLJsXSU",
        "colab": {
          "base_uri": "https://localhost:8080/"
        },
        "outputId": "b47dc8ae-363e-4290-fa0e-1aa6874ea5fd"
      },
      "execution_count": null,
      "outputs": [
        {
          "output_type": "stream",
          "name": "stdout",
          "text": [
            "!dlroW ,olleH\n"
          ]
        }
      ]
    },
    {
      "cell_type": "code",
      "source": [
        "def wAvg(L, w):\n",
        "  try:\n",
        "    res = []\n",
        "    for i in range (len(L)):\n",
        "      res.append(L[i] * w[i])\n",
        "    return sum(res) / sum(w)\n",
        "  except ZeroDivisionError:\n",
        "    print(\"Can't division by Zero.\")\n",
        "    return []\n",
        "  except TypeError:\n",
        "    print(\"Wrong object type. \")\n",
        "    return []\n",
        "  except Exception as e:\n",
        "    print(f\"Unknown Error: {e}\")\n",
        "    return float ('nan')\n",
        "\n",
        "wAvg([1,2,3], [.1,.3,.4])\n"
      ],
      "metadata": {
        "colab": {
          "base_uri": "https://localhost:8080/"
        },
        "id": "nf2u5smm9jqk",
        "outputId": "48802eb2-9b88-40be-fb07-f763652384e9"
      },
      "execution_count": null,
      "outputs": [
        {
          "output_type": "stream",
          "name": "stdout",
          "text": [
            "Unknown Error: list index out of range\n"
          ]
        }
      ]
    },
    {
      "cell_type": "code",
      "source": [
        "#Student Class\n",
        "class Student:\n",
        "  def __init__(self, name, number):\n",
        "    self.name = name\n",
        "    self.number = number\n",
        "\n",
        "\n",
        "\n"
      ],
      "metadata": {
        "id": "neK0Tau2-saW"
      },
      "execution_count": null,
      "outputs": []
    },
    {
      "cell_type": "code",
      "source": [
        "s1 = Student(\"James Bond\", \"007\")\n",
        "s2 = Student(\"Clark Kent\", \"333\")\n",
        "\n",
        "print(s1.name, s2.name)"
      ],
      "metadata": {
        "colab": {
          "base_uri": "https://localhost:8080/"
        },
        "id": "hRbz_Kib4Sfe",
        "outputId": "0275b7aa-231e-40f8-e6bd-769c1b42e660"
      },
      "execution_count": null,
      "outputs": [
        {
          "output_type": "stream",
          "name": "stdout",
          "text": [
            "James Bond Clark Kent\n"
          ]
        }
      ]
    }
  ]
}