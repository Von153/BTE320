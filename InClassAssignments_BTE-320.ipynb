{
  "nbformat": 4,
  "nbformat_minor": 0,
  "metadata": {
    "colab": {
      "provenance": [],
      "authorship_tag": "ABX9TyPPKiEFS1kfPGYP0FY6+png",
      "include_colab_link": true
    },
    "kernelspec": {
      "name": "python3",
      "display_name": "Python 3"
    },
    "language_info": {
      "name": "python"
    }
  },
  "cells": [
    {
      "cell_type": "markdown",
      "metadata": {
        "id": "view-in-github",
        "colab_type": "text"
      },
      "source": [
        "<a href=\"https://colab.research.google.com/github/Von153/BTE320/blob/main/InClassAssignments_BTE-320.ipynb\" target=\"_parent\"><img src=\"https://colab.research.google.com/assets/colab-badge.svg\" alt=\"Open In Colab\"/></a>"
      ]
    },
    {
      "cell_type": "code",
      "execution_count": null,
      "metadata": {
        "id": "4kdzAVB8DDKd",
        "colab": {
          "base_uri": "https://localhost:8080/"
        },
        "outputId": "64d4e9d3-37b9-4d19-cdb9-f2155f6a0994"
      },
      "outputs": [
        {
          "output_type": "stream",
          "name": "stdout",
          "text": [
            "244.92000000000002\n",
            "Area is 244.92000000000002 square feet.\n",
            "Area is 244.9 square feet\n",
            " \n",
            "Area is 244.92000000000002 square feet\n",
            "Promgram ends...\n"
          ]
        }
      ],
      "source": [
        "pi = 3.14\n",
        "r = 3\n",
        "h = 10\n",
        "\n",
        "Area = (2*pi*r**2) + (2*pi*r*h)\n",
        "print(Area)\n",
        "\n",
        "print(\"Area is\", Area, \"square feet.\", end=\"\\n\")\n",
        "print(\"Area is %.1f square feet\" % Area)\n",
        "print(\" \")\n",
        "print(\"Area is {} square feet\" .format(Area))\n",
        "print('Promgram ends...')"
      ]
    },
    {
      "cell_type": "code",
      "source": [
        "pi = 3.14\n",
        "r = float(input(\"Provide a value for the radius (in ft): \"))\n",
        "c = float(input(\"Provide value for side of sq:\"))\n",
        "shape = 'circle'\n",
        "\n",
        "if shape == 'circle':\n",
        "  area = pi * r ** 2\n",
        "  print(f'Area is {area} sq ft.')\n",
        "elif shape == 'sq':\n",
        "  area = c ** 2\n",
        "  print(f'Area is {area} sq ft.')\n",
        "elif shape == 'triangle'\n",
        "  area = .5 * c * h\n",
        "  print(f'Area is {area} sq ft.')\n",
        "else:\n",
        "  area = 2 * pi * r * h + 2 * pi * r ** 2\n",
        "  print(f'Area is {area} sq ft.')\n",
        "\n",
        "print('Program ends...')"
      ],
      "metadata": {
        "colab": {
          "base_uri": "https://localhost:8080/"
        },
        "id": "Kk5E3FVudzgS",
        "outputId": "22eaafc9-f201-4d5d-d579-8b30f947b49a"
      },
      "execution_count": null,
      "outputs": [
        {
          "output_type": "stream",
          "name": "stdout",
          "text": [
            "Provide a value for the radius (in ft): 89\n",
            "Provide value for side of sq:90\n",
            "Area is 24871.940000000002 sq ft.\n",
            "Program ends...\n"
          ]
        }
      ]
    },
    {
      "cell_type": "code",
      "source": [
        "grade = 97\n",
        "if grade > 96:\n",
        "  print(\"A+\")\n",
        "\n",
        "elif grade > 93:\n",
        "  print(\"A\")\n",
        "\n",
        "elif grade > 90:\n",
        "  print(\"A-\")\n",
        "elif grade > 88:\n",
        "  print(\"A\")\n"
      ],
      "metadata": {
        "colab": {
          "base_uri": "https://localhost:8080/"
        },
        "id": "2YOlmWOOcHew",
        "outputId": "0c43d90f-3623-41e0-eec2-61671ccd0e62"
      },
      "execution_count": null,
      "outputs": [
        {
          "output_type": "stream",
          "name": "stdout",
          "text": [
            "A+\n",
            "A\n"
          ]
        }
      ]
    },
    {
      "cell_type": "code",
      "source": [
        "amount = float(input('Give initial amount ($): '))\n",
        "n_years = int(input('Give years of investment: '))\n",
        "customer_type = input(\"Type of customer (n->new, e->existing): \")\n",
        "if amount > 10,000 and customer_type == \"e\":\n",
        "  return_amount = ((1 + 0.035) ** n_years * amount )\n",
        "elif amount > 1000 and customer_type == 'e':\n",
        "    return_amount = ((1 + 0.0325) ** n_years * amount )\n",
        "elif amount <= 1000 and customer_type == 'e':\n",
        "    return_amount = ((1 + 0.03) ** n_years * amount )\n",
        "elif customer_type == 'n':\n",
        "    return_amount = ((1 + 0.03) ** n_years * amount )\n",
        "\n",
        "print(return_amount)\n",
        "\n"
      ],
      "metadata": {
        "id": "HsCwonpBiSTj"
      },
      "execution_count": null,
      "outputs": []
    },
    {
      "cell_type": "code",
      "source": [
        "if customer_ype =='e':\n",
        "  if amount > 10,000 and customer_type == \"e\":\n",
        "    return_amount = ((1 + 0.035) ** n_years * amount )\n",
        "  elif amount > 1000 and customer_type == 'e':\n",
        "      return_amount = ((1 + 0.0325) ** n_years * amount )\n",
        "  elif amount <= 1000 and customer_type == 'e':\n",
        "      return_amount = ((1 + 0.03) ** n_years * amount )\n",
        "  elif customer_type == 'n':\n",
        "      return_amount = ((1 + 0.03) ** n_years * amount )"
      ],
      "metadata": {
        "id": "pV5XAXzeJpIl"
      },
      "execution_count": null,
      "outputs": []
    },
    {
      "cell_type": "code",
      "source": [
        "#Rock Paper Scissors Game\n",
        "\n",
        "P1 = input(\"Choose Rock, Paper, or Scissors: \");\n",
        "P2 = input(\"Choose Rock, Paper, or Scissors: \");\n",
        "\n",
        "if (P1 == P2):\n",
        "  print(\"Tie\")\n",
        "\n",
        "elif (P1 == \"Paper\" and P2 == \"Rock\"):\n",
        "  print (\"Player 1 wins\")\n",
        "\n",
        "elif (P1 == \"Scissors\" and P2 == \"Paper\"):\n",
        "  print (\"Player 1 wins\")\n",
        "\n",
        "elif (P1 == \"Rock\" and P2 == \"Scissors\"):\n",
        "  print (\"Player 1 wins\")\n",
        "\n",
        "else:\n",
        "  print (\"Player 2 wins\")\n",
        "\n",
        "\n",
        "\n",
        "\n",
        "\n",
        "\n",
        "\n"
      ],
      "metadata": {
        "colab": {
          "base_uri": "https://localhost:8080/"
        },
        "id": "Erk0U5PyLc-o",
        "outputId": "677f0adb-74d9-4a5e-c306-c757af2e3fb3"
      },
      "execution_count": null,
      "outputs": [
        {
          "output_type": "stream",
          "name": "stdout",
          "text": [
            "Choose Rock, Paper, or Scissors: scissors\n",
            "Choose Rock, Paper, or Scissors: rock\n",
            "Player 2 wins\n"
          ]
        }
      ]
    },
    {
      "cell_type": "code",
      "source": [
        "print (\"Welcome to the Calculator\")\n",
        "#Request Inputs\n",
        "num1 = float(input(\"Please input 1 number here: \"))\n",
        "operatorSymbol = (input(\"Please input a mathmatical operation (+, -, *, /, **): \"))\n",
        "num2 = float(input(\"Please input 2 number here: \"))\n",
        "\n",
        "if operatorSymbol == '*':\n",
        "    num1*num2\n",
        "elif operatorSymbol == '/':\n",
        "    num1/num2\n",
        "elif operatorSymbol == '+':\n",
        "    num1+num2\n",
        "elif operatorSymbol == '-':\n",
        "    num1-num2\n",
        "else:\n",
        "  operatorSymbol == '**'\n",
        "  num1**num2\n",
        "\n",
        "print(f'Your calculation equals: {operatorSymbol}')\n"
      ],
      "metadata": {
        "id": "a_9-lRQbM9Lx",
        "colab": {
          "base_uri": "https://localhost:8080/"
        },
        "outputId": "16169249-853b-4396-b539-10a8236c3075"
      },
      "execution_count": 5,
      "outputs": [
        {
          "output_type": "stream",
          "name": "stdout",
          "text": [
            "Welcome to the Calculator\n",
            "Please input 1 number here: 658349\n",
            "Please input a mathmatical operation: !\n",
            "Please input 2 number here: 3\n",
            "Your calculation equals: !\n"
          ]
        }
      ]
    },
    {
      "cell_type": "code",
      "source": [],
      "metadata": {
        "id": "0AjdTcPoXbqU"
      },
      "execution_count": null,
      "outputs": []
    }
  ]
}